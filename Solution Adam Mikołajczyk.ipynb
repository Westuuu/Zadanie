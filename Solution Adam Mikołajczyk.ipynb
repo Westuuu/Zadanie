{
 "cells": [
  {
   "cell_type": "markdown",
   "metadata": {},
   "source": [
    "# Solutions and visualizations"
   ]
  },
  {
   "cell_type": "markdown",
   "metadata": {},
   "source": [
    "To visualize and analyse data I'll be using Python."
   ]
  },
  {
   "cell_type": "markdown",
   "metadata": {},
   "source": [
    "## 1. Preparing data"
   ]
  },
  {
   "cell_type": "code",
   "execution_count": 1,
   "metadata": {},
   "outputs": [],
   "source": [
    "# Importing packages\n",
    "import pandas as pd\n",
    "import numpy as np\n",
    "import matplotlib.pyplot as plt"
   ]
  },
  {
   "cell_type": "code",
   "execution_count": 2,
   "metadata": {},
   "outputs": [],
   "source": [
    "# Importing data from csv files to DataFrames\n",
    "\n",
    "customer_orders = pd.read_csv('Datasets\\customer_orders.csv')\n",
    "customers_zip = pd.read_csv('Datasets\\customers_zip.csv')\n",
    "delivery_zip = pd.read_csv('Datasets\\delivery_zip.csv') \n",
    "orders = pd.read_csv('Datasets\\orders.csv')\n",
    "sports = pd.read_csv('Datasets\\sports.csv')"
   ]
  },
  {
   "cell_type": "code",
   "execution_count": 3,
   "metadata": {},
   "outputs": [],
   "source": [
    "# Creating a simple function to make code more readable\n",
    "def drop_unnamed(dataset):\n",
    "    dataset.drop(dataset.columns[dataset.columns.str.contains('unnamed', case = False)], axis = 1, inplace = True)\n",
    "\n",
    "# Dropping index column that was imported from csv files\n",
    "drop_unnamed(customer_orders)\n",
    "drop_unnamed(customers_zip)\n",
    "drop_unnamed(delivery_zip)\n",
    "drop_unnamed(sports)\n",
    "drop_unnamed(orders)"
   ]
  },
  {
   "cell_type": "markdown",
   "metadata": {},
   "source": [
    "## 2. What percentage of customers pick up their orders in a different zip code than they live in?"
   ]
  },
  {
   "cell_type": "code",
   "execution_count": 4,
   "metadata": {},
   "outputs": [
    {
     "name": "stdout",
     "output_type": "stream",
     "text": [
      "         customer_id  zip_cust  zip_del same_zip\n",
      "0         77461851.0   39435.0  55685.0    False\n",
      "1         37934116.0   92635.0  36236.0    False\n",
      "2         39770481.0   61090.0      NaN    False\n",
      "3         50298765.0   40516.0  78823.0    False\n",
      "4         23383753.0   85367.0  75757.0    False\n",
      "...              ...       ...      ...      ...\n",
      "1704776   22997615.0   18863.0  18863.0     True\n",
      "1704777   22997615.0   18863.0  22874.0    False\n",
      "1704778   52840571.0   56465.0  56465.0     True\n",
      "1704779   52840571.0   56465.0  56162.0    False\n",
      "1704780          NaN       NaN      NaN    False\n",
      "\n",
      "[1704781 rows x 4 columns]\n"
     ]
    }
   ],
   "source": [
    "# Merging dataset that contains customer home zip code and dataset with data about delivery zip\n",
    "customers_delivery_zip = customers_zip.merge(delivery_zip, how = 'outer', on = 'customer_id', )\n",
    "\n",
    "# Setting conditions to compare rows whether they contain the same zip code\n",
    "conditions = [customers_delivery_zip['zip_cust'] == customers_delivery_zip['zip_del'],\n",
    "                customers_delivery_zip['zip_cust'] != customers_delivery_zip['zip_del']]\n",
    "\n",
    "# List of boolean values for conditions\n",
    "choices = ['True', 'False']\n",
    "\n",
    "# Adding column to 'customers_delivery_zip' DataFrame that contains boolean values: True if row has the same zip code and False if row has different zip code\n",
    "customers_delivery_zip['same_zip'] = np.select(conditions, choices, default = False)\n",
    "print(customers_delivery_zip)"
   ]
  },
  {
   "cell_type": "code",
   "execution_count": 5,
   "metadata": {},
   "outputs": [
    {
     "name": "stdout",
     "output_type": "stream",
     "text": [
      "Percentage of orders delivered to different zip code: 62.41 %\n"
     ]
    }
   ],
   "source": [
    "# Counting number of rows that have a different zip code\n",
    "number_of_different_zips = customers_delivery_zip.same_zip.value_counts()\n",
    "\n",
    "# Calculating the percentage of rows containing different zip codes\n",
    "different_zip_percentage = (number_of_different_zips['False'] / len(customers_delivery_zip['same_zip'])) * 100\n",
    "\n",
    "# Calculating the percentage of rows containing the same zip codes\n",
    "same_zip_percentage = (number_of_different_zips['True'] / len(customers_delivery_zip['same_zip'])) * 100\n",
    "\n",
    "# Printing the percentage of rows ontaining different zip codes\n",
    "print(\"Percentage of orders delivered to different zip code:\", round(different_zip_percentage, ndigits = 2), \"%\")"
   ]
  },
  {
   "cell_type": "code",
   "execution_count": 6,
   "metadata": {},
   "outputs": [
    {
     "data": {
      "image/png": "[encoded data removed]",
      "text/plain": [
       "<Figure size 576x360 with 1 Axes>"
      ]
     },
     "metadata": {
      "needs_background": "light"
     },
     "output_type": "display_data"
    }
   ],
   "source": [
    "# Visualizing percentages on a bar graph\n",
    "fig = plt.figure(figsize =(8, 5))\n",
    "\n",
    "# Setting values\n",
    "columns = ['Different zip', 'Same zip']\n",
    "values = [different_zip_percentage, same_zip_percentage]\n",
    "\n",
    "# Design of the graph\n",
    "ax = fig.add_axes([0,0,1,1])\n",
    "ax.bar(columns, values)\n",
    "ax.set_axisbelow(True)\n",
    "ax.grid(color='gray')\n",
    "\n",
    "# Adding labels\n",
    "plt.ylabel('Percentage')\n",
    "plt.title('Orders by zip code')\n",
    "\n",
    "plt.show()"
   ]
  },
  {
   "cell_type": "markdown",
   "metadata": {},
   "source": [
    "## 3. Most and least popular sports"
   ]
  },
  {
   "cell_type": "code",
   "execution_count": 7,
   "metadata": {},
   "outputs": [
    {
     "name": "stdout",
     "output_type": "stream",
     "text": [
      "sport\n",
      "p3ywanie       274855\n",
      "3ucznictwo     222829\n",
      "nurkowanie     211743\n",
      "myolistwo      180655\n",
      "jeYdziectwo     63640\n",
      "bieganie        53111\n",
      "rowery          43038\n",
      "karate          21695\n",
      "aquafitness     21566\n",
      "judo            21476\n",
      "snowboard       21472\n",
      "chodzenie       21423\n",
      "hokej           21409\n",
      "myslistwo       10834\n",
      "Name: customer_id, dtype: int64\n"
     ]
    }
   ],
   "source": [
    "# Grouping 'sports' DataFrame by number of orders in each category and sorting in descending order\n",
    "grouped_sports = sports.groupby('sport')['customer_id'].count().sort_values(ascending=False)\n",
    "print(grouped_sports)"
   ]
  },
  {
   "cell_type": "code",
   "execution_count": 8,
   "metadata": {},
   "outputs": [
    {
     "name": "stdout",
     "output_type": "stream",
     "text": [
      "The most popular sport is p3ywanie with 274855 orders\n",
      "The least popular sport is myslistwo with 10834 orders\n"
     ]
    }
   ],
   "source": [
    "# Printing the most and least popular sports\n",
    "print(\"The most popular sport is\", grouped_sports.index[0],\"with\", max(grouped_sports), \"orders\")\n",
    "print(\"The least popular sport is\", grouped_sports.index[-1],\"with\", min(grouped_sports), \"orders\")"
   ]
  },
  {
   "cell_type": "code",
   "execution_count": 9,
   "metadata": {},
   "outputs": [
    {
     "data": {
      "image/png": "[encoded data removed]",
      "text/plain": [
       "<Figure size 432x288 with 1 Axes>"
      ]
     },
     "metadata": {
      "needs_background": "light"
     },
     "output_type": "display_data"
    }
   ],
   "source": [
    "# Visualizing number of orders in each category on a graph\n",
    "grouped_sports.plot(kind = 'bar')\n",
    "\n",
    "# Adding labels\n",
    "plt.title('Popularity of sports sorted by number of orders')\n",
    "plt.ylabel('Number of orders')\n",
    "\n",
    "plt.show()"
   ]
  },
  {
   "cell_type": "markdown",
   "metadata": {},
   "source": [
    "As we can see the most popular category is `\"pływanie\"` and the least popular is `\"myślistwo\"`. It only shows the actual data but to get deeper understanding of why it is like that we would have to check for more specific informations such as: average and median order value, total order value (I suppose that certain categories are more expensive than others) or a number of items and their cost needed for a certain sport. Those are just some ideas for comparing those two categories that might be a subject for a much deeper analysis."
   ]
  },
  {
   "cell_type": "markdown",
   "metadata": {},
   "source": [
    "## 4. Number of customers doing more than 2 sports"
   ]
  },
  {
   "cell_type": "code",
   "execution_count": 10,
   "metadata": {},
   "outputs": [
    {
     "name": "stdout",
     "output_type": "stream",
     "text": [
      "Number of customers ordering from more than 2 categories: 5040\n",
      "Percentage of customers ordering from more than 2 categories: 0.48 %\n"
     ]
    }
   ],
   "source": [
    "# Creating empty DataFrame\n",
    "grouped_by_customers = pd.DataFrame()\n",
    "\n",
    "# Grouping \"sports\" DataFrame on customer_id and counting number of categories they ordered from\n",
    "grouped_by_customers['number_of_sports'] = sports.groupby('customer_id')['sport'].count()\n",
    "\n",
    "# Sorting for rows containing customers that ordered from more than 2 categories\n",
    "customers_more_than_2_sports = len(grouped_by_customers[grouped_by_customers['number_of_sports'] > 2])\n",
    "\n",
    "# Printing results\n",
    "print(\"Number of customers ordering from more than 2 categories:\", customers_more_than_2_sports)\n",
    "print(\"Percentage of customers ordering from more than 2 categories:\", round((customers_more_than_2_sports / len(grouped_by_customers)) * 100, 2), \"%\")"
   ]
  },
  {
   "cell_type": "markdown",
   "metadata": {},
   "source": [
    "## 5. Average order value"
   ]
  },
  {
   "cell_type": "code",
   "execution_count": 11,
   "metadata": {},
   "outputs": [
    {
     "name": "stdout",
     "output_type": "stream",
     "text": [
      "Average order value is: 25396.01\n",
      "Median order value is equal to: 405.0\n"
     ]
    }
   ],
   "source": [
    "# Calculating average order value\n",
    "mean_order_value = orders['value'].mean()\n",
    "\n",
    "# Calculating median order value\n",
    "median_order_value = orders['value'].median()\n",
    "\n",
    "# Printing results\n",
    "print(\"Average order value is:\" , round(mean_order_value, 2))\n",
    "print(\"Median order value is equal to:\", median_order_value)"
   ]
  },
  {
   "cell_type": "markdown",
   "metadata": {},
   "source": [
    "Average order value is **`25396.01`** but to get a bigger picture of the data we need to look also at the median value which is equal to **`405`**. As we can see average value is much higher which suggests that there are some outliers - orders much bigger than the rest."
   ]
  },
  {
   "cell_type": "markdown",
   "metadata": {},
   "source": [
    "## 6. Average order value of customers ordering from category \"jeździectwo\""
   ]
  },
  {
   "cell_type": "code",
   "execution_count": 12,
   "metadata": {},
   "outputs": [
    {
     "name": "stdout",
     "output_type": "stream",
     "text": [
      "         customer_id    order_id   value        sport\n",
      "31         5775704.0  62291544.0  759.98  jeYdziectwo\n",
      "35        59147471.0  58231221.0  685.78  jeYdziectwo\n",
      "40        32683424.0  26934331.0   46.16  jeYdziectwo\n",
      "56         3206085.0  71869961.0  771.86  jeYdziectwo\n",
      "146       44476885.0  35020342.0  233.66  jeYdziectwo\n",
      "...              ...         ...     ...          ...\n",
      "4917247   81723809.0  23151667.0  594.17  jeYdziectwo\n",
      "4917248   81723809.0  23808176.0  650.55  jeYdziectwo\n",
      "4917339   39250750.0  38057329.0   50.62  jeYdziectwo\n",
      "4917340   39250750.0  35460508.0  648.91  jeYdziectwo\n",
      "4917341   39250750.0  10957224.0   67.77  jeYdziectwo\n",
      "\n",
      "[240522 rows x 4 columns]\n"
     ]
    }
   ],
   "source": [
    "# Merging 'customer_orders', 'orders' and 'sports' datasets into one DataFrame\n",
    "customer_orders_value = customer_orders.merge(orders, on = 'order_id')\n",
    "customer_orders_value_sports = customer_orders_value.merge(sports, on = 'customer_id')\n",
    "\n",
    "# Selecting only rows that contain data about category \"jeździectwo\"\n",
    "customer_orders_jezdziectwo = customer_orders_value_sports.loc[customer_orders_value_sports['sport'] == 'jeYdziectwo']\n",
    "print(customer_orders_jezdziectwo)"
   ]
  },
  {
   "cell_type": "code",
   "execution_count": 13,
   "metadata": {},
   "outputs": [
    {
     "name": "stdout",
     "output_type": "stream",
     "text": [
      "Average order value in category 'jeździectwo' is equal to: 26017.4\n",
      "Median order value in category 'jeździectwo' is equal to: 406.89\n"
     ]
    }
   ],
   "source": [
    "# Calculating average and median value order value\n",
    "mean_order_value_jezdziectwo = customer_orders_jezdziectwo['value'].mean()\n",
    "median_order_value_jezdziectwo = customer_orders_jezdziectwo['value'].median()\n",
    "\n",
    "# Printing results\n",
    "print(\"Average order value in category 'jeździectwo' is equal to:\", round(mean_order_value_jezdziectwo, 2))\n",
    "print(\"Median order value in category 'jeździectwo' is equal to:\", median_order_value_jezdziectwo)"
   ]
  },
  {
   "cell_type": "markdown",
   "metadata": {},
   "source": [
    "Average order value in category `\"jeździectwo\"` is equal to **`26017.4`**, but again to get a bigger picture we need to look at median order value which is equal to **`406.89`**. That shows us that there are some big orders that are much bigger than median order."
   ]
  },
  {
   "cell_type": "markdown",
   "metadata": {},
   "source": [
    "## 7. Summary"
   ]
  },
  {
   "cell_type": "markdown",
   "metadata": {},
   "source": [
    "**Question No. 1**\n",
    "- Percentage of orders delivered to different zip code: **`62.41%`** \n",
    "\n",
    "**Question No. 2**\n",
    "- The most popular category is **`\"pływanie\"`** with **`274855`** orders\n",
    "- The least popular category is **`\"myślistwo\"`** with **`10834`** orders\n",
    "\n",
    "**Question No. 3**\n",
    "- Number of customers ordering from more than 2 categories: **`5040`** which is **`0.48%`** of total orders\n",
    "\n",
    "**Question No. 4**\n",
    "- Average order value is: **`25396.01`**\n",
    "- Median order value is equal to: **`405.0`**\n",
    "\n",
    "**Question No. 5**\n",
    "- Average order value in category **`\"jeździectwo\"`** is equal to: **`26017.4`**\n",
    "- Median order value in category **`\"jeździectwo\"`** is equal to: **`406.89`**"
   ]
  }
 ],
 "metadata": {
  "kernelspec": {
   "display_name": "Python 3.10.4 64-bit",
   "language": "python",
   "name": "python3"
  },
  "language_info": {
   "codemirror_mode": {
    "name": "ipython",
    "version": 3
   },
   "file_extension": ".py",
   "mimetype": "text/x-python",
   "name": "python",
   "nbconvert_exporter": "python",
   "pygments_lexer": "ipython3",
   "version": "3.10.4"
  },
  "orig_nbformat": 4,
  "vscode": {
   "interpreter": {
    "hash": "47022115190f9a06d72dae1604a982c7861c2990d9daffc8856a75c4fcbc85bd"
   }
  }
 },
 "nbformat": 4,
 "nbformat_minor": 2
}
